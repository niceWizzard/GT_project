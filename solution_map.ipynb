{
 "cells": [
  {
   "cell_type": "code",
   "execution_count": null,
   "id": "867464a6",
   "metadata": {},
   "outputs": [],
   "source": [
    "import networkx as nx\n",
    "import pandas as pd\n",
    "from data import locations\n",
    "\n",
    "tour_df = pd.read_csv(\"calculations/gen_alg_sol.csv\")[\"Route\"]"
   ]
  },
  {
   "cell_type": "code",
   "execution_count": null,
   "id": "1508fd9d",
   "metadata": {},
   "outputs": [
    {
     "name": "stdout",
     "output_type": "stream",
     "text": [
      "Initializing Map of Bulacan, Philippines...\n",
      "Saving file to PINS.html...\n"
     ]
    }
   ],
   "source": [
    "import folium\n",
    "\n",
    "place_name = \"Bulacan, Philippines\"\n",
    "print(f\"Initializing Map of {place_name}...\")\n",
    "\n",
    "m = folium.Map(location=[locations[0].lat, locations[0].long], zoom_start=15)\n",
    "\n",
    "# Add marker to locations\n",
    "for loc in locations:\n",
    "    folium.Marker((loc.lat, loc.long)).add_to(m)\n",
    "\n",
    "#Add edges \n",
    "for i in range(len(tour_df)):\n",
    "    loc1 = tour_df.loc[i]\n",
    "    loc2 = tour_df.loc[(i + 1) % len(tour_df)]\n",
    "\n",
    "    loc1 = next((l for l in locations if l.name == loc1))\n",
    "    loc2 = next((l for l in locations if l.name == loc2))\n",
    "    folium.PolyLine([(loc1.lat, loc1.long), (loc2.lat, loc2.long)], color=\"blue\", weight=5, opacity=0.8).add_to(m)\n",
    "\n",
    "print(\"Saving file to GEN_ALG_SOL.html...\")\n",
    "m.save(\"calculations/GEN_ALG_SOL.html\")"
   ]
  },
  {
   "cell_type": "code",
   "execution_count": null,
   "id": "4774d364",
   "metadata": {},
   "outputs": [],
   "source": []
  }
 ],
 "metadata": {
  "kernelspec": {
   "display_name": "Python 3",
   "language": "python",
   "name": "python3"
  },
  "language_info": {
   "codemirror_mode": {
    "name": "ipython",
    "version": 3
   },
   "file_extension": ".py",
   "mimetype": "text/x-python",
   "name": "python",
   "nbconvert_exporter": "python",
   "pygments_lexer": "ipython3",
   "version": "3.13.2"
  }
 },
 "nbformat": 4,
 "nbformat_minor": 5
}
