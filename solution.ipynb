{
 "cells": [
  {
   "cell_type": "code",
   "execution_count": 1,
   "id": "bb64fd11",
   "metadata": {},
   "outputs": [],
   "source": [
    "import networkx as nx\n",
    "import time \n",
    "import pandas as pd\n",
    "from utils.distance import get_distance\n",
    "import matplotlib.pyplot as plt\n",
    "import numpy as np\n",
    "from utils.nn import nearest_neighbor\n",
    "from utils.genalg import genetic_alg\n",
    "from utils.simann import simulated_annealing\n",
    "from utils.aco import ant_colony\n",
    "from data import locations\n",
    "\n",
    "Graph = nx.Graph()\n",
    "\n",
    "df = pd.read_csv(\"calculations/pass_distances.csv\")\n",
    "\n",
    "for a in df.itertuples():\n",
    "    Graph.add_edge(a.Loc1, a.Loc2, weight=a._4)\n",
    "    \n",
    "results = []\n",
    "ITERATIONS = range(20)"
   ]
  },
  {
   "cell_type": "code",
   "execution_count": 2,
   "id": "9d063e73",
   "metadata": {},
   "outputs": [
    {
     "name": "stdout",
     "output_type": "stream",
     "text": [
      "Running Nearest Neighbor\n",
      "NN Finished: 0.00179s | Distance: 110129.09446m\n"
     ]
    }
   ],
   "source": [
    "\n",
    "# Nearest Neighbor\n",
    "print(\"Running Nearest Neighbor\")\n",
    "start = time.time()\n",
    "best_tour, best_distance = None, float('Inf')\n",
    "for _ in ITERATIONS:\n",
    "    tour, distance = nearest_neighbor(Graph, start_index=list(Graph.nodes).index('Bulacan Provincial Capitol Malolos'))\n",
    "    if distance < best_distance:\n",
    "        best_tour = tour\n",
    "        best_distance = distance\n",
    "nn_time = time.time() - start\n",
    "print(f\"NN Finished: {nn_time:.5f}s | Distance: {best_distance:.5f}m\")\n",
    "\n",
    "results.append((\"Nearest Neighbor\", nn_time, best_distance, best_tour))"
   ]
  },
  {
   "cell_type": "code",
   "execution_count": 3,
   "id": "9c6c24c7",
   "metadata": {},
   "outputs": [
    {
     "name": "stdout",
     "output_type": "stream",
     "text": [
      "Running Genetic Algorithm\n",
      "GA Finished: 46.73311972618103 | Distance: 86906.42196309914\n"
     ]
    }
   ],
   "source": [
    "# Genetic Algorithm\n",
    "print(\"Running Genetic Algorithm\")\n",
    "start = time.time()\n",
    "best_tour, best_distance = None, float('Inf')\n",
    "for _ in ITERATIONS:\n",
    "    tour, distance = genetic_alg(Graph, 100, 0.01, 1000)\n",
    "    if distance < best_distance:\n",
    "        best_tour = tour\n",
    "        best_distance = distance\n",
    "ga_time = time.time() - start\n",
    "print(f\"GA Finished: {ga_time} | Distance: {best_distance}\")\n",
    "results.append((\"Genetic Algorithm\", ga_time, best_distance, best_tour))\n",
    "\n"
   ]
  },
  {
   "cell_type": "code",
   "execution_count": 4,
   "id": "d680b127",
   "metadata": {},
   "outputs": [
    {
     "name": "stdout",
     "output_type": "stream",
     "text": [
      "Running Simulated Annealing\n",
      "SA Finished: 1.19706s | Distance: 86893.75571m\n"
     ]
    }
   ],
   "source": [
    "\n",
    "# Simulated Annealing\n",
    "print(\"Running Simulated Annealing\")\n",
    "start = time.time()\n",
    "best_tour, best_distance = None, float('Inf')\n",
    "for _ in ITERATIONS:\n",
    "    tour, distance = simulated_annealing(Graph, 10_000, 0.995,20_000)\n",
    "    if distance < best_distance:\n",
    "        best_tour = tour\n",
    "        best_distance = distance\n",
    "sa_time = time.time() - start\n",
    "print(f\"SA Finished: {sa_time:.5f}s | Distance: {best_distance:.5f}m\")\n",
    "results.append((\"Simulated Annealing\", sa_time, best_distance, best_tour))\n"
   ]
  },
  {
   "cell_type": "code",
   "execution_count": 5,
   "id": "66166ce6",
   "metadata": {},
   "outputs": [
    {
     "name": "stdout",
     "output_type": "stream",
     "text": [
      "Running Ant Colony Optimization\n",
      "SA Finished: 58.20961s | Distance: 87088.98394m\n"
     ]
    }
   ],
   "source": [
    "ANTS, EPOCHS, ALPHA, BETA, RHO, Q = 50, 200, 1.0, 5.0, 0.1, 100\n",
    "\n",
    "print(\"Running Ant Colony Optimization\")\n",
    "start = time.time()\n",
    "best_tour, best_distance = None, float('Inf')\n",
    "for _ in ITERATIONS:\n",
    "    tour, distance = ant_colony(Graph, ANTS, EPOCHS, ALPHA, BETA, RHO, Q)\n",
    "    if distance < best_distance:\n",
    "        best_tour = tour\n",
    "        best_distance = distance\n",
    "ac_time = time.time() - start\n",
    "print(f\"SA Finished: {ac_time:.5f}s | Distance: {best_distance:.5f}m\")\n",
    "results.append((\"Ant Colony Optimization\", ac_time, best_distance, best_tour))"
   ]
  },
  {
   "cell_type": "code",
   "execution_count": 6,
   "id": "9bd899d5",
   "metadata": {},
   "outputs": [],
   "source": [
    "res_df = pd.DataFrame(results, columns=[\"Algorithm\", \"Time (s)\", \"Distance\", \"Tour\"]).set_index(\"Algorithm\")"
   ]
  },
  {
   "cell_type": "code",
   "execution_count": 27,
   "id": "cf9f699d",
   "metadata": {},
   "outputs": [
    {
     "data": {
      "text/html": [
       "<div>\n",
       "<style scoped>\n",
       "    .dataframe tbody tr th:only-of-type {\n",
       "        vertical-align: middle;\n",
       "    }\n",
       "\n",
       "    .dataframe tbody tr th {\n",
       "        vertical-align: top;\n",
       "    }\n",
       "\n",
       "    .dataframe thead th {\n",
       "        text-align: right;\n",
       "    }\n",
       "</style>\n",
       "<table border=\"1\" class=\"dataframe\">\n",
       "  <thead>\n",
       "    <tr style=\"text-align: right;\">\n",
       "      <th></th>\n",
       "      <th>Time (s)</th>\n",
       "      <th>Distance</th>\n",
       "      <th>Tour</th>\n",
       "    </tr>\n",
       "    <tr>\n",
       "      <th>Algorithm</th>\n",
       "      <th></th>\n",
       "      <th></th>\n",
       "      <th></th>\n",
       "    </tr>\n",
       "  </thead>\n",
       "  <tbody>\n",
       "    <tr>\n",
       "      <th>Nearest Neighbor</th>\n",
       "      <td>0.001795</td>\n",
       "      <td>110129.094459</td>\n",
       "      <td>(Bulacan Provincial Capitol Malolos, Hiyas Bul...</td>\n",
       "    </tr>\n",
       "    <tr>\n",
       "      <th>Genetic Algorithm</th>\n",
       "      <td>46.733120</td>\n",
       "      <td>86906.421963</td>\n",
       "      <td>(St Francis of Aggigi Parish Meycauayan, Old M...</td>\n",
       "    </tr>\n",
       "    <tr>\n",
       "      <th>Simulated Annealing</th>\n",
       "      <td>1.197061</td>\n",
       "      <td>86893.755712</td>\n",
       "      <td>(St James the Apostle Parish Plaridel, Simbory...</td>\n",
       "    </tr>\n",
       "    <tr>\n",
       "      <th>Ant Colony Optimization</th>\n",
       "      <td>58.209613</td>\n",
       "      <td>87088.983944</td>\n",
       "      <td>(Simboryo Chapel of Quingua Plaridel, St James...</td>\n",
       "    </tr>\n",
       "  </tbody>\n",
       "</table>\n",
       "</div>"
      ],
      "text/plain": [
       "                          Time (s)       Distance  \\\n",
       "Algorithm                                           \n",
       "Nearest Neighbor          0.001795  110129.094459   \n",
       "Genetic Algorithm        46.733120   86906.421963   \n",
       "Simulated Annealing       1.197061   86893.755712   \n",
       "Ant Colony Optimization  58.209613   87088.983944   \n",
       "\n",
       "                                                                      Tour  \n",
       "Algorithm                                                                   \n",
       "Nearest Neighbor         (Bulacan Provincial Capitol Malolos, Hiyas Bul...  \n",
       "Genetic Algorithm        (St Francis of Aggigi Parish Meycauayan, Old M...  \n",
       "Simulated Annealing      (St James the Apostle Parish Plaridel, Simbory...  \n",
       "Ant Colony Optimization  (Simboryo Chapel of Quingua Plaridel, St James...  "
      ]
     },
     "execution_count": 27,
     "metadata": {},
     "output_type": "execute_result"
    }
   ],
   "source": [
    "res_df"
   ]
  },
  {
   "cell_type": "code",
   "execution_count": 26,
   "id": "d133b249",
   "metadata": {},
   "outputs": [
    {
     "name": "stdout",
     "output_type": "stream",
     "text": [
      "C12, C11, C7, C9, C8, C10, C14, C13, C3, C4, C5, C2, C1, C0, C15, C16, C17, C19, C18, C6, "
     ]
    }
   ],
   "source": [
    "remap = {\n",
    "\"St John of God Parish San Rafael\": 'C0',\n",
    "\"Old Municipal Building Baliwag\": 'C1',\n",
    "\"St Augustine Parish Baliwag\": 'C2',\n",
    "\"St James the Apostle Parish Plaridel\": 'C3',\n",
    "\"Simboryo Chapel of Quingua Plaridel\": 'C4',\n",
    "\"Municipal Trial Court Pulilan\": 'C5',\n",
    "\"Parish of St John the Baptist Calumpit\": 'C6',\n",
    "\"Barasoain Church Malolos\": 'C7',\n",
    "\"Immaculate Conception Parish Malolos\": 'C8',\n",
    "\"Museum of Philippine Political History Malolos\": 'C9',\n",
    "\"Malolos of Aguas Potables Malolos\": 'C10',\n",
    "\"Hiyas Bulacan Cultural Center and Museum Malolos\": 'C11',\n",
    "\"Bulacan Provincial Capitol Malolos\": 'C12',\n",
    "\"Alberta Uitangcoy Santos House Malolos\": 'C13',\n",
    "\"Dr Luis Santos House\": 'C14',\n",
    "\"Old PNR  Guiguinto Station Guiguinto\": 'C15',\n",
    "\"Constantino Ancestral HouseBalagtas\": 'C16',\n",
    "\"Diocsan Shrine Bulakan\": 'C17',\n",
    "\"Old Meycauayan PNR Station Meycauayan\": 'C18',\n",
    "\"St Francis of Aggigi Parish Meycauayan\": 'C19'\n",
    "}\n",
    "\n",
    "for i in [remap[i] for i in res_df.iloc[0][\"Tour\"]]:\n",
    "    print(i,end=\", \")"
   ]
  },
  {
   "cell_type": "code",
   "execution_count": 37,
   "id": "cd5a3595",
   "metadata": {},
   "outputs": [
    {
     "name": "stdout",
     "output_type": "stream",
     "text": [
      "Saving file to Nearest Neighbor.html...\n",
      "Saving file to Genetic Algorithm.html...\n",
      "Saving file to Simulated Annealing.html...\n",
      "Saving file to Ant Colony Optimization.html...\n"
     ]
    }
   ],
   "source": [
    "# Generate the Folium\n",
    "import folium\n",
    "\n",
    "\n",
    "for algo, time, distance, tour in res_df.itertuples():\n",
    "    m = folium.Map(location=[locations[0].lat, locations[0].long], zoom_start=15)\n",
    "    # Add marker to locations\n",
    "    for loc in locations:\n",
    "        folium.Marker(\n",
    "            (loc.lat+0.002, loc.long)).add_to(m)\n",
    "        folium.Marker(\n",
    "            (loc.lat+0.002, loc.long),\n",
    "            icon=folium.DivIcon(html=f\"\"\"\n",
    "                <div style=\"display: inline-block; font-size: 12pt; color: white; font-weight: bold; background-color: blue; \">{remap[loc.name]}</div>\n",
    "            \"\"\")\n",
    "        ).add_to(m)\n",
    "    #Add edges \n",
    "    for i in range(len(tour)):\n",
    "        loc1 = tour[i]\n",
    "        loc2 = tour[(i + 1) % len(tour)]\n",
    "\n",
    "        loc1 = next((l for l in locations if l.name == loc1))\n",
    "        loc2 = next((l for l in locations if l.name == loc2))\n",
    "        folium.PolyLine([(loc1.lat, loc1.long), (loc2.lat, loc2.long)], color=\"blue\", weight=5, opacity=0.8).add_to(m)\n",
    "\n",
    "    print(f\"Saving file to {algo}.html...\")\n",
    "    m.save(f\"calculations/{algo}.html\")"
   ]
  }
 ],
 "metadata": {
  "kernelspec": {
   "display_name": "Python 3",
   "language": "python",
   "name": "python3"
  },
  "language_info": {
   "codemirror_mode": {
    "name": "ipython",
    "version": 3
   },
   "file_extension": ".py",
   "mimetype": "text/x-python",
   "name": "python",
   "nbconvert_exporter": "python",
   "pygments_lexer": "ipython3",
   "version": "3.13.2"
  }
 },
 "nbformat": 4,
 "nbformat_minor": 5
}
