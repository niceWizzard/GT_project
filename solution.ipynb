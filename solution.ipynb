{
 "cells": [
  {
   "cell_type": "code",
   "execution_count": 68,
   "id": "bb64fd11",
   "metadata": {},
   "outputs": [],
   "source": [
    "import networkx as nx\n",
    "import time \n",
    "import pandas as pd\n",
    "from utils.distance import get_distance\n",
    "import matplotlib.pyplot as plt\n",
    "import numpy as np\n",
    "from utils.nn import nearest_neighbor\n",
    "from utils.genalg import genetic_alg\n",
    "from utils.simann import simulated_annealing\n",
    "from data import locations\n",
    "\n",
    "Graph = nx.Graph()\n",
    "\n",
    "df = pd.read_csv(\"calculations/pass_distances.csv\")\n",
    "\n",
    "for a in df.itertuples():\n",
    "    Graph.add_edge(a.Loc1, a.Loc2, weight=a._4)\n",
    "    \n",
    "results = []"
   ]
  },
  {
   "cell_type": "code",
   "execution_count": 69,
   "id": "9d063e73",
   "metadata": {},
   "outputs": [
    {
     "name": "stdout",
     "output_type": "stream",
     "text": [
      "Running Nearest Neighbor\n",
      "NN Finished: 0.00019s | Distance: 110129.09446m\n"
     ]
    }
   ],
   "source": [
    "\n",
    "# Nearest Neighbor\n",
    "print(\"Running Nearest Neighbor\")\n",
    "start = time.time()\n",
    "tour, distance = nearest_neighbor(Graph, start_index=list(Graph.nodes).index('Bulacan Provincial Capitol Malolos'))\n",
    "nn_time = time.time() - start\n",
    "print(f\"NN Finished: {nn_time:.5f}s | Distance: {distance:.5f}m\")\n",
    "\n",
    "results.append((\"Nearest Neighbor\", nn_time, distance, tour))"
   ]
  },
  {
   "cell_type": "code",
   "execution_count": 70,
   "id": "9c6c24c7",
   "metadata": {},
   "outputs": [
    {
     "name": "stdout",
     "output_type": "stream",
     "text": [
      "Running Genetic Algorithm\n",
      "GA Finished: 2.0941550731658936 | Distance: 86906.42196309914\n"
     ]
    }
   ],
   "source": [
    "# Genetic Algorithm\n",
    "print(\"Running Genetic Algorithm\")\n",
    "start = time.time()\n",
    "tour, distance = genetic_alg(Graph, 100, 0.05, 1000)\n",
    "ga_time = time.time() - start\n",
    "print(f\"GA Finished: {ga_time} | Distance: {distance}\")\n",
    "results.append((\"Genetic Algorithm\", ga_time, distance, tour))\n",
    "\n"
   ]
  },
  {
   "cell_type": "code",
   "execution_count": 71,
   "id": "d680b127",
   "metadata": {},
   "outputs": [
    {
     "name": "stdout",
     "output_type": "stream",
     "text": [
      "Running Simulated Annealing\n",
      "SA Finished: 0.03998s | Distance: 96364.21307m\n"
     ]
    }
   ],
   "source": [
    "\n",
    "# Simulated Annealing\n",
    "print(\"Running Simulated Annealing\")\n",
    "start = time.time()\n",
    "tour, distance = simulated_annealing(Graph, 10_000, 0.995,20_000)\n",
    "sa_time = time.time() - start\n",
    "print(f\"SA Finished: {sa_time:.5f}s | Distance: {distance:.5f}m\")\n",
    "results.append((\"Simulated Annealing\", sa_time, distance, tour))\n"
   ]
  },
  {
   "cell_type": "code",
   "execution_count": 72,
   "id": "9bd899d5",
   "metadata": {},
   "outputs": [],
   "source": [
    "res_df = pd.DataFrame(results, columns=[\"Algorithm\", \"Time (s)\", \"Distance\", \"Tour\"]).set_index(\"Algorithm\")"
   ]
  },
  {
   "cell_type": "code",
   "execution_count": 73,
   "id": "d133b249",
   "metadata": {},
   "outputs": [
    {
     "data": {
      "text/html": [
       "<div>\n",
       "<style scoped>\n",
       "    .dataframe tbody tr th:only-of-type {\n",
       "        vertical-align: middle;\n",
       "    }\n",
       "\n",
       "    .dataframe tbody tr th {\n",
       "        vertical-align: top;\n",
       "    }\n",
       "\n",
       "    .dataframe thead th {\n",
       "        text-align: right;\n",
       "    }\n",
       "</style>\n",
       "<table border=\"1\" class=\"dataframe\">\n",
       "  <thead>\n",
       "    <tr style=\"text-align: right;\">\n",
       "      <th></th>\n",
       "      <th>Time (s)</th>\n",
       "      <th>Distance</th>\n",
       "      <th>Tour</th>\n",
       "    </tr>\n",
       "    <tr>\n",
       "      <th>Algorithm</th>\n",
       "      <th></th>\n",
       "      <th></th>\n",
       "      <th></th>\n",
       "    </tr>\n",
       "  </thead>\n",
       "  <tbody>\n",
       "    <tr>\n",
       "      <th>Nearest Neighbor</th>\n",
       "      <td>0.000189</td>\n",
       "      <td>110129.094459</td>\n",
       "      <td>[Bulacan Provincial Capitol Malolos, Hiyas Bul...</td>\n",
       "    </tr>\n",
       "    <tr>\n",
       "      <th>Genetic Algorithm</th>\n",
       "      <td>2.094155</td>\n",
       "      <td>86906.421963</td>\n",
       "      <td>(Old PNR  Guiguinto Station Guiguinto, Constan...</td>\n",
       "    </tr>\n",
       "    <tr>\n",
       "      <th>Simulated Annealing</th>\n",
       "      <td>0.039976</td>\n",
       "      <td>96364.213074</td>\n",
       "      <td>(Bulacan Provincial Capitol Malolos, Parish of...</td>\n",
       "    </tr>\n",
       "  </tbody>\n",
       "</table>\n",
       "</div>"
      ],
      "text/plain": [
       "                     Time (s)       Distance  \\\n",
       "Algorithm                                      \n",
       "Nearest Neighbor     0.000189  110129.094459   \n",
       "Genetic Algorithm    2.094155   86906.421963   \n",
       "Simulated Annealing  0.039976   96364.213074   \n",
       "\n",
       "                                                                  Tour  \n",
       "Algorithm                                                               \n",
       "Nearest Neighbor     [Bulacan Provincial Capitol Malolos, Hiyas Bul...  \n",
       "Genetic Algorithm    (Old PNR  Guiguinto Station Guiguinto, Constan...  \n",
       "Simulated Annealing  (Bulacan Provincial Capitol Malolos, Parish of...  "
      ]
     },
     "execution_count": 73,
     "metadata": {},
     "output_type": "execute_result"
    }
   ],
   "source": [
    "res_df"
   ]
  },
  {
   "cell_type": "code",
   "execution_count": 74,
   "id": "cd5a3595",
   "metadata": {},
   "outputs": [
    {
     "name": "stdout",
     "output_type": "stream",
     "text": [
      "Saving file to Nearest Neighbor.html...\n",
      "Saving file to Genetic Algorithm.html...\n",
      "Saving file to Simulated Annealing.html...\n"
     ]
    }
   ],
   "source": [
    "# Generate the Folium\n",
    "import folium\n",
    "\n",
    "\n",
    "for algo, time, distance, tour in res_df.itertuples():\n",
    "    m = folium.Map(location=[locations[0].lat, locations[0].long], zoom_start=15)\n",
    "    # Add marker to locations\n",
    "    for loc in locations:\n",
    "        folium.Marker((loc.lat, loc.long)).add_to(m)\n",
    "    #Add edges \n",
    "    for i in range(len(tour)):\n",
    "        loc1 = tour[i]\n",
    "        loc2 = tour[(i + 1) % len(tour)]\n",
    "\n",
    "        loc1 = next((l for l in locations if l.name == loc1))\n",
    "        loc2 = next((l for l in locations if l.name == loc2))\n",
    "        folium.PolyLine([(loc1.lat, loc1.long), (loc2.lat, loc2.long)], color=\"blue\", weight=5, opacity=0.8).add_to(m)\n",
    "\n",
    "    print(f\"Saving file to {algo}.html...\")\n",
    "    m.save(f\"calculations/{algo}.html\")"
   ]
  }
 ],
 "metadata": {
  "kernelspec": {
   "display_name": "Python 3",
   "language": "python",
   "name": "python3"
  },
  "language_info": {
   "codemirror_mode": {
    "name": "ipython",
    "version": 3
   },
   "file_extension": ".py",
   "mimetype": "text/x-python",
   "name": "python",
   "nbconvert_exporter": "python",
   "pygments_lexer": "ipython3",
   "version": "3.13.2"
  }
 },
 "nbformat": 4,
 "nbformat_minor": 5
}
